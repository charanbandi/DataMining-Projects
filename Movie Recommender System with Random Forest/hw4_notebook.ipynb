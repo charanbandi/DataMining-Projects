{
 "cells": [
  {
   "cell_type": "code",
   "execution_count": 1,
   "metadata": {},
   "outputs": [],
   "source": [
    "#    * movie_genres.dat\n",
    "#    This file contains the genres of the movies.\n",
    "\n",
    "#    * movie_directors.dat\n",
    "#    This file contains the directors of the movies.\n",
    "   \n",
    "#    * movie_actors.dat\n",
    "#    This file contains the main actores and actresses of the movies.\n",
    "#    A ranking is given to the actors of each movie according to the order in which \n",
    "#    they appear on the movie IMDb cast web page.\n",
    "\n",
    "#    * tags.dat\n",
    "#    This file contains the set of tags available in the dataset.\n",
    "   \n",
    "#    * user_taggedmovies.dat    \n",
    "#    These files contain the tag assignments of the movies provided by each particular user.\n",
    "\n",
    "#    * movie_tags.dat\n",
    "#    This file contains the tags assigned to the movies, and the number of times \n",
    "#    the tags were assigned to each movie.\n",
    "\n",
    "# The data is tab-separated and space separated- need to look at files to see what sep to use"
   ]
  },
  {
   "cell_type": "code",
   "execution_count": 2,
   "metadata": {},
   "outputs": [],
   "source": [
    "# !pip3 install seaborn\n",
    "# !pip3 install imbalanced-learn"
   ]
  },
  {
   "cell_type": "code",
   "execution_count": 3,
   "metadata": {
    "scrolled": true
   },
   "outputs": [
    {
     "data": {
      "image/png": "[encoded data removed]",
      "text/plain": [
       "<Figure size 432x288 with 1 Axes>"
      ]
     },
     "metadata": {
      "needs_background": "light"
     },
     "output_type": "display_data"
    }
   ],
   "source": [
    "import pandas as pd\n",
    "import numpy as np\n",
    "import seaborn as sns\n",
    "import matplotlib.pyplot as plt\n",
    "import warnings\n",
    "warnings.filterwarnings(\"ignore\")\n",
    "\n",
    "training_data = pd.read_table('additional_files/train.dat', sep=' ')\n",
    "test_data = pd.read_table('additional_files/test.dat', sep=' ')\n",
    "\n",
    "training_data[\"rating\"] = training_data[\"rating\"]*2\n",
    "movie_genres = pd.read_table('additional_files/movie_genres.dat')\n",
    "movie_directors = pd.read_table('additional_files/movie_directors.dat', encoding='latin1')\n",
    "movie_actors = pd.read_table('additional_files/movie_actors.dat', encoding='latin1')\n",
    "tags = pd.read_table('additional_files/tags.dat', encoding='latin1')\n",
    "movie_tags = pd.read_table('additional_files/movie_tags.dat')\n",
    "user_taggedmovies = pd.read_table('additional_files/user_taggedmovies.dat', sep=' ')\n",
    "\n",
    "fig , ax = plt.subplots(figsize=(6,4))\n",
    "sns.countplot(x='rating', data=training_data)\n",
    "plt.title(\"Training data ratings\")\n",
    "plt.show()"
   ]
  },
  {
   "cell_type": "code",
   "execution_count": 4,
   "metadata": {},
   "outputs": [],
   "source": [
    "# # setting up 10 unique bins\n",
    "rating_bins = training_data['rating']*2\n",
    "\n",
    "# remove ratings and add after a new intialization later\n",
    "user_movie= training_data.drop(columns='rating')"
   ]
  },
  {
   "cell_type": "code",
   "execution_count": 5,
   "metadata": {},
   "outputs": [],
   "source": [
    "# get set of all unique genres in the data\n",
    "list_unique_genres = list(set(movie_genres['genre']))\n",
    "# list_unique_genres"
   ]
  },
  {
   "cell_type": "code",
   "execution_count": 6,
   "metadata": {},
   "outputs": [],
   "source": [
    "list_movie_genre=[]\n",
    "count = 0\n",
    "# len(user_movie)\n",
    "for i1,r1 in user_movie.iterrows():\n",
    "#     print(r1.movieID)\n",
    "    \n",
    "#     get a set of all unique movie ID's and append their genres together\n",
    "    match_var = movie_genres.loc[movie_genres['movieID']==r1.movieID]\n",
    "\n",
    "    combined_genre = \"\"\n",
    "    for i2,r2 in match_var.iterrows():\n",
    "#         using a '|' as seperator\n",
    "        combined_genre += r2.genre + \"|\"\n",
    "    list_movie_genre.append(combined_genre)\n",
    "    count+=1"
   ]
  },
  {
   "cell_type": "code",
   "execution_count": 7,
   "metadata": {
    "scrolled": false
   },
   "outputs": [],
   "source": [
    "user_movie['rating'] = rating_bins\n",
    "user_movie['genres'] = list_movie_genre"
   ]
  },
  {
   "cell_type": "code",
   "execution_count": 8,
   "metadata": {},
   "outputs": [],
   "source": [
    "count = 0\n",
    "for val in list_unique_genres:\n",
    "    user_movie[val] = user_movie.apply(lambda x:int(val in x.genres), axis = 1)\n",
    "    count+=1"
   ]
  },
  {
   "cell_type": "code",
   "execution_count": 9,
   "metadata": {},
   "outputs": [],
   "source": [
    "training_data = user_movie\n",
    "training_data['rating']=training_data['rating']/2"
   ]
  },
  {
   "cell_type": "code",
   "execution_count": 10,
   "metadata": {},
   "outputs": [],
   "source": [
    "movie_genres = pd.read_table('additional_files/movie_genres.dat')\n",
    "list_unique_genres_test = list(set(movie_genres['genre']))\n",
    "list_movie_genre_test=[]\n",
    "count = 0\n",
    "user_movie_test = test_data\n",
    "\n",
    "# len(user_movie)\n",
    "for i1,r1 in user_movie_test.iterrows():\n",
    "#     print(r1.movieID)\n",
    "    \n",
    "#     get a set of all unique movie ID's and append their genres together\n",
    "    match_var = movie_genres.loc[movie_genres['movieID']==r1.movieID]\n",
    "\n",
    "    combined_genre = \"\"\n",
    "    for i2,r2 in match_var.iterrows():\n",
    "#         using a '|' as seperator\n",
    "        combined_genre += r2.genre + \"|\"\n",
    "    list_movie_genre_test.append(combined_genre) \n",
    "    count+=1\n"
   ]
  },
  {
   "cell_type": "code",
   "execution_count": 11,
   "metadata": {},
   "outputs": [],
   "source": [
    "user_movie_test['genres'] = list_movie_genre_test\n",
    "count = 0\n",
    "for val in list_unique_genres_test:\n",
    "    user_movie_test[val] = user_movie_test.apply(lambda x:int(val in x.genres), axis = 1)\n",
    "    count+=1"
   ]
  },
  {
   "cell_type": "code",
   "execution_count": 12,
   "metadata": {},
   "outputs": [],
   "source": [
    "test_data = user_movie_test"
   ]
  },
  {
   "cell_type": "code",
   "execution_count": 13,
   "metadata": {},
   "outputs": [],
   "source": [
    "# some of the categoricals were already encoded\n",
    "numerical_features = ['movieID','userID','Action','Musical','IMAX','Romance','Comedy','Adventure','Crime','Short','Film-Noir','Western', 'Animation','Drama','War','Mystery','Documentary', 'Horror', 'Children', 'Thriller', 'Sci-Fi', 'Fantasy']\n",
    "\n",
    "# categorical_features = ['userID']\n",
    "\n",
    "model_features = numerical_features #+ categorical_features\n",
    "model_target = \"rating\"\n",
    "\n",
    "from sklearn.preprocessing import OneHotEncoder, MinMaxScaler\n",
    "from sklearn.pipeline import Pipeline\n",
    "# from imblearn.pipeline import Pipeline #sampling not compatible with sklearn pipeline\n",
    "from sklearn.compose import ColumnTransformer\n",
    "from sklearn.tree import DecisionTreeClassifier\n",
    "from sklearn.metrics import classification_report\n",
    "from sklearn.metrics import accuracy_score\n",
    "from sklearn.ensemble import RandomForestClassifier\n",
    "from sklearn.ensemble import ExtraTreesClassifier\n",
    "from sklearn.ensemble import RandomForestRegressor\n",
    "from sklearn.svm import SVC\n",
    "from sklearn.naive_bayes import MultinomialNB\n",
    "from sklearn.neighbors import KNeighborsClassifier\n",
    "from sklearn.model_selection import train_test_split\n",
    "\n",
    "\n",
    "# Preprocess numerical features\n",
    "numerical_processor = Pipeline([('num_scaler', MinMaxScaler())])\n",
    "\n",
    "# Encode categorical features - race and gender\n",
    "# categorical_processor = Pipeline([('cat_encoder', OneHotEncoder(handle_unknown='ignore'))])\n",
    "\n",
    "data_preprocessor = ColumnTransformer([\n",
    "    ('numerical', numerical_processor, numerical_features),\n",
    "#     ('categorical', categorical_processor, categorical_features)\n",
    "                                    ])\n",
    "\n",
    "pipeline = Pipeline([\n",
    "#     ('oversampler', RandomOverSampler(random_state = 25, sampling_strategy = 0.60)),\n",
    "    ('data_preprocessing', data_preprocessor),\n",
    "    ('rf', MultinomialNB())\n",
    "                    ])\n",
    "\n",
    "train_data, val_data = train_test_split(training_data, test_size=0.2, shuffle=True, random_state=23)\n",
    "\n",
    "# train pipeline\n",
    "X_train = train_data[model_features]\n",
    "y_train = train_data['rating'].tolist()\n",
    "pipeline.fit(X_train, y_train)\n",
    "train_predictions = pipeline.predict(X_train)\n",
    "\n",
    "# test pipeline\n",
    "X_test = val_data[model_features]\n",
    "y_test = val_data[\"rating\"].tolist()\n",
    "\n",
    "# predict the test dataset\n",
    "test_predictions = pipeline.predict(X_test)"
   ]
  },
  {
   "cell_type": "code",
   "execution_count": 14,
   "metadata": {},
   "outputs": [
    {
     "name": "stdout",
     "output_type": "stream",
     "text": [
      "Fitting 5 folds for each of 5 candidates, totalling 25 fits\n"
     ]
    },
    {
     "name": "stderr",
     "output_type": "stream",
     "text": [
      "[Parallel(n_jobs=-1)]: Using backend LokyBackend with 4 concurrent workers.\n",
      "[Parallel(n_jobs=-1)]: Done  25 out of  25 | elapsed:   13.4s finished\n"
     ]
    },
    {
     "data": {
      "text/plain": [
       "{'mean_fit_time': array([1.51110201, 1.54688921, 1.56188202, 1.56800108, 1.39129515]),\n",
       " 'std_fit_time': array([0.04667579, 0.03297527, 0.04154887, 0.04933381, 0.25263184]),\n",
       " 'mean_score_time': array([0.0910398 , 0.09734106, 0.08798766, 0.08665452, 0.07731009]),\n",
       " 'std_score_time': array([0.00717159, 0.00885611, 0.00503515, 0.00583175, 0.01838053]),\n",
       " 'param_rf__alpha': masked_array(data=[0.1, 1.1, 2.1, 3.1, 4.1],\n",
       "              mask=[False, False, False, False, False],\n",
       "        fill_value='?',\n",
       "             dtype=object),\n",
       " 'params': [{'rf__alpha': 0.1},\n",
       "  {'rf__alpha': 1.1},\n",
       "  {'rf__alpha': 2.1},\n",
       "  {'rf__alpha': 3.1},\n",
       "  {'rf__alpha': 4.1}],\n",
       " 'split0_test_score': array([-2.24541548, -2.24538945, -2.24539813, -2.24548488, -2.24546753]),\n",
       " 'split1_test_score': array([-2.24468664, -2.24475607, -2.24479078, -2.24482549, -2.24483416]),\n",
       " 'split2_test_score': array([-2.23911058, -2.23914538, -2.23917147, -2.23915407, -2.23917147]),\n",
       " 'split3_test_score': array([-2.24367542, -2.24367542, -2.24366674, -2.24366674, -2.24369279]),\n",
       " 'split4_test_score': array([-2.24018042, -2.24019781, -2.24025868, -2.24024998, -2.24026737]),\n",
       " 'mean_test_score': array([-2.24261371, -2.24263283, -2.24265716, -2.24267623, -2.24268667]),\n",
       " 'std_test_score': array([0.00250867, 0.00250143, 0.00248947, 0.00252116, 0.00251264]),\n",
       " 'rank_test_score': array([1, 2, 3, 4, 5], dtype=int32)}"
      ]
     },
     "execution_count": 14,
     "metadata": {},
     "output_type": "execute_result"
    }
   ],
   "source": [
    "from sklearn.model_selection import GridSearchCV, RandomizedSearchCV\n",
    "\n",
    "param_grid = {'rf__alpha': np.arange(0.1, 4.5)}\n",
    "\n",
    "grid_search = RandomizedSearchCV(pipeline, \n",
    "                           param_grid, \n",
    "                           cv = 5, # 5 fold cv\n",
    "                           verbose = 1,\n",
    "                           n_jobs = -1,\n",
    "                           scoring = \"neg_root_mean_squared_error\"\n",
    "                          )\n",
    "\n",
    "grid_search.fit(X_train, y_train)\n",
    "grid_search.cv_results_"
   ]
  },
  {
   "cell_type": "code",
   "execution_count": 15,
   "metadata": {},
   "outputs": [
    {
     "name": "stdout",
     "output_type": "stream",
     "text": [
      "Pipeline(steps=[('data_preprocessing',\n",
      "                 ColumnTransformer(transformers=[('numerical',\n",
      "                                                  Pipeline(steps=[('num_scaler',\n",
      "                                                                   MinMaxScaler())]),\n",
      "                                                  ['movieID', 'userID',\n",
      "                                                   'Action', 'Musical', 'IMAX',\n",
      "                                                   'Romance', 'Comedy',\n",
      "                                                   'Adventure', 'Crime',\n",
      "                                                   'Short', 'Film-Noir',\n",
      "                                                   'Western', 'Animation',\n",
      "                                                   'Drama', 'War', 'Mystery',\n",
      "                                                   'Documentary', 'Horror',\n",
      "                                                   'Children', 'Thriller',\n",
      "                                                   'Sci-Fi', 'Fantasy'])])),\n",
      "                ('rf', MultinomialNB(alpha=0.1))])\n"
     ]
    }
   ],
   "source": [
    "classifier = grid_search.best_estimator_\n",
    "print(classifier)\n",
    "classifier = pipeline\n",
    "# Fit the best model\n",
    "classifier.fit(X_train, y_train)\n",
    "\n",
    "# predictions on training data\n",
    "train_predictions = classifier.predict(X_train)\n",
    "\n",
    "# Get test data to test the classifier\n",
    "X_test = val_data[model_features]\n",
    "y_test = val_data[\"rating\"].tolist()\n",
    "\n",
    "# Test data going through the Pipeline-- it's sampled, encoded, scaled, then used to make predictions\n",
    "test_predictions = classifier.predict(X_test)"
   ]
  },
  {
   "cell_type": "code",
   "execution_count": 16,
   "metadata": {
    "scrolled": true
   },
   "outputs": [],
   "source": [
    "x_train = pd.DataFrame(training_data, columns=numerical_features)#+categorical_features)\n",
    "y_train = training_data['rating'].tolist()\n",
    "\n",
    "# Fit the model to our training data\n",
    "classifier.fit(x_train, y_train)\n",
    "\n",
    "x_test = pd.DataFrame(test_data, columns=numerical_features)#+categorical_features)\n",
    "\n",
    "test_predictions = classifier.predict(x_test)\n",
    "\n",
    "with open('hw4_result.txt', 'w') as filehandle:\n",
    "    filehandle.writelines(\"{}\\n\".format(t/2) for t in test_predictions)"
   ]
  },
  {
   "cell_type": "code",
   "execution_count": null,
   "metadata": {},
   "outputs": [],
   "source": []
  }
 ],
 "metadata": {
  "kernelspec": {
   "display_name": "Python 3",
   "language": "python",
   "name": "python3"
  },
  "language_info": {
   "codemirror_mode": {
    "name": "ipython",
    "version": 3
   },
   "file_extension": ".py",
   "mimetype": "text/x-python",
   "name": "python",
   "nbconvert_exporter": "python",
   "pygments_lexer": "ipython3",
   "version": "3.8.0"
  }
 },
 "nbformat": 4,
 "nbformat_minor": 4
}
